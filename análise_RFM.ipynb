{
 "cells": [
  {
   "cell_type": "markdown",
   "id": "af6747bd",
   "metadata": {},
   "source": [
    "## Contexto"
   ]
  },
  {
   "cell_type": "markdown",
   "id": "95df20d1",
   "metadata": {},
   "source": [
    "Suponhamos que temos um conjunto de dados de uma empresa de e-commerce com registros de compras com os seguintes atributos: descrição do produto, quantidade comprada, data da compra, o valor unitário do produto, o id do cliente e o país do cliente. O chefe dessa empresa gostaria de conhecer os seus clientes para criar estratégias e campanhas de fidelização.  "
   ]
  },
  {
   "cell_type": "markdown",
   "id": "31baa7d9",
   "metadata": {},
   "source": [
    "**Uma das formas simples para isso é utilizando o RFM.** "
   ]
  },
  {
   "cell_type": "markdown",
   "id": "98021c78",
   "metadata": {},
   "source": [
    "-> O RFM análise a Recência, Frequência de compra e a Monetaridade de cada cliente, possibilitando mapear e classificar os clientes.\n",
    "\n",
    "    -> Recência: é há quantos dias foi a última compra do cliente.\n",
    "    -> Frequência: quantidade de compra que o cliente fez na sua empresa. \n",
    "    -> Monetaridade: é o quanto o cliente gasto na empresa. "
   ]
  },
  {
   "cell_type": "markdown",
   "id": "c7ef7f64",
   "metadata": {},
   "source": [
    "**Forma de calcular:**"
   ]
  },
  {
   "cell_type": "markdown",
   "id": "b0cdd502",
   "metadata": {},
   "source": [
    "    1. Ordene os clientes por Recência (menor para o maior)\n",
    "    2. Divide a base de clientes em 5 partes iguais, dando notas de 1 a 5.\n",
    "    3. Ordene por Frequência. (maior para o menor)\n",
    "    4. Divide a base de clientes em 5 partes iguais, dando notas de 1 a 5.\n",
    "    5. Ordene por Monetaridade.(maior para o menor)\n",
    "    6. Divide a base de clientes em 5 partes iguais, dando notas de 1 a 5.\n",
    "    \n",
    "Exemplo: Recência menor pontuação maior, Frequencia de compra maior nota maior e Monetariade maior nota alta. \n",
    "\n",
    "Fique assim:\n",
    "\n",
    "cliente | R | F | M\n",
    "-------| ------- | ----- | -----\n",
    "01 | 1 | 2 | 4\n",
    "05 | 2 | 5 | 5\n",
    "08 | 5 | 5 | 5\n",
    "\n",
    "    7. Calcule (média ou mediana) das Notas R, F e M (RFM score)\n",
    "    \n",
    "**Através do RFM score, podemos ordenar uma lista de clientes, descobrindo quais são os melhores clientes por base da sua recência, frequência e monetaridade.**"
   ]
  },
  {
   "cell_type": "markdown",
   "id": "86f51434",
   "metadata": {},
   "source": [
    "## Importando bibliotecas"
   ]
  },
  {
   "cell_type": "code",
   "execution_count": 1,
   "id": "183549fb",
   "metadata": {
    "ExecuteTime": {
     "end_time": "2023-04-16T18:01:36.701132Z",
     "start_time": "2023-04-16T18:01:36.166818Z"
    }
   },
   "outputs": [],
   "source": [
    "import pandas as pd\n",
    "import numpy as np\n",
    "\n",
    "import seaborn as sns\n",
    "import matplotlib.pyplot as plt\n",
    "\n",
    "from datetime import datetime\n",
    "\n",
    "import warnings\n",
    "warnings.filterwarnings(\"ignore\")"
   ]
  },
  {
   "cell_type": "markdown",
   "id": "0eaabb7e",
   "metadata": {},
   "source": [
    "## Dados - análise"
   ]
  },
  {
   "cell_type": "code",
   "execution_count": 2,
   "id": "b5bceddd",
   "metadata": {
    "ExecuteTime": {
     "end_time": "2023-04-16T18:01:37.114949Z",
     "start_time": "2023-04-16T18:01:36.702344Z"
    }
   },
   "outputs": [],
   "source": [
    "df_raw = pd.read_csv('data/data.csv', encoding='ISO-8859-1')"
   ]
  },
  {
   "cell_type": "code",
   "execution_count": 3,
   "id": "49023499",
   "metadata": {
    "ExecuteTime": {
     "end_time": "2023-04-16T18:01:37.132640Z",
     "start_time": "2023-04-16T18:01:37.116521Z"
    }
   },
   "outputs": [
    {
     "data": {
      "text/html": [
       "<div>\n",
       "<style scoped>\n",
       "    .dataframe tbody tr th:only-of-type {\n",
       "        vertical-align: middle;\n",
       "    }\n",
       "\n",
       "    .dataframe tbody tr th {\n",
       "        vertical-align: top;\n",
       "    }\n",
       "\n",
       "    .dataframe thead th {\n",
       "        text-align: right;\n",
       "    }\n",
       "</style>\n",
       "<table border=\"1\" class=\"dataframe\">\n",
       "  <thead>\n",
       "    <tr style=\"text-align: right;\">\n",
       "      <th></th>\n",
       "      <th>InvoiceNo</th>\n",
       "      <th>StockCode</th>\n",
       "      <th>Description</th>\n",
       "      <th>Quantity</th>\n",
       "      <th>InvoiceDate</th>\n",
       "      <th>UnitPrice</th>\n",
       "      <th>CustomerID</th>\n",
       "      <th>Country</th>\n",
       "    </tr>\n",
       "  </thead>\n",
       "  <tbody>\n",
       "    <tr>\n",
       "      <th>0</th>\n",
       "      <td>536365</td>\n",
       "      <td>85123A</td>\n",
       "      <td>WHITE HANGING HEART T-LIGHT HOLDER</td>\n",
       "      <td>6</td>\n",
       "      <td>12/1/2010 8:26</td>\n",
       "      <td>2.55</td>\n",
       "      <td>17850.0</td>\n",
       "      <td>United Kingdom</td>\n",
       "    </tr>\n",
       "    <tr>\n",
       "      <th>1</th>\n",
       "      <td>536365</td>\n",
       "      <td>71053</td>\n",
       "      <td>WHITE METAL LANTERN</td>\n",
       "      <td>6</td>\n",
       "      <td>12/1/2010 8:26</td>\n",
       "      <td>3.39</td>\n",
       "      <td>17850.0</td>\n",
       "      <td>United Kingdom</td>\n",
       "    </tr>\n",
       "    <tr>\n",
       "      <th>2</th>\n",
       "      <td>536365</td>\n",
       "      <td>84406B</td>\n",
       "      <td>CREAM CUPID HEARTS COAT HANGER</td>\n",
       "      <td>8</td>\n",
       "      <td>12/1/2010 8:26</td>\n",
       "      <td>2.75</td>\n",
       "      <td>17850.0</td>\n",
       "      <td>United Kingdom</td>\n",
       "    </tr>\n",
       "    <tr>\n",
       "      <th>3</th>\n",
       "      <td>536365</td>\n",
       "      <td>84029G</td>\n",
       "      <td>KNITTED UNION FLAG HOT WATER BOTTLE</td>\n",
       "      <td>6</td>\n",
       "      <td>12/1/2010 8:26</td>\n",
       "      <td>3.39</td>\n",
       "      <td>17850.0</td>\n",
       "      <td>United Kingdom</td>\n",
       "    </tr>\n",
       "    <tr>\n",
       "      <th>4</th>\n",
       "      <td>536365</td>\n",
       "      <td>84029E</td>\n",
       "      <td>RED WOOLLY HOTTIE WHITE HEART.</td>\n",
       "      <td>6</td>\n",
       "      <td>12/1/2010 8:26</td>\n",
       "      <td>3.39</td>\n",
       "      <td>17850.0</td>\n",
       "      <td>United Kingdom</td>\n",
       "    </tr>\n",
       "  </tbody>\n",
       "</table>\n",
       "</div>"
      ],
      "text/plain": [
       "  InvoiceNo StockCode                          Description  Quantity   \n",
       "0    536365    85123A   WHITE HANGING HEART T-LIGHT HOLDER         6  \\\n",
       "1    536365     71053                  WHITE METAL LANTERN         6   \n",
       "2    536365    84406B       CREAM CUPID HEARTS COAT HANGER         8   \n",
       "3    536365    84029G  KNITTED UNION FLAG HOT WATER BOTTLE         6   \n",
       "4    536365    84029E       RED WOOLLY HOTTIE WHITE HEART.         6   \n",
       "\n",
       "      InvoiceDate  UnitPrice  CustomerID         Country  \n",
       "0  12/1/2010 8:26       2.55     17850.0  United Kingdom  \n",
       "1  12/1/2010 8:26       3.39     17850.0  United Kingdom  \n",
       "2  12/1/2010 8:26       2.75     17850.0  United Kingdom  \n",
       "3  12/1/2010 8:26       3.39     17850.0  United Kingdom  \n",
       "4  12/1/2010 8:26       3.39     17850.0  United Kingdom  "
      ]
     },
     "execution_count": 3,
     "metadata": {},
     "output_type": "execute_result"
    }
   ],
   "source": [
    "df_raw.head()"
   ]
  },
  {
   "cell_type": "code",
   "execution_count": 4,
   "id": "47592906",
   "metadata": {
    "ExecuteTime": {
     "end_time": "2023-04-16T18:01:37.138127Z",
     "start_time": "2023-04-16T18:01:37.134460Z"
    }
   },
   "outputs": [
    {
     "name": "stdout",
     "output_type": "stream",
     "text": [
      "Quantidade de linhas:541909\n",
      "Quantidade de colunas:8\n"
     ]
    }
   ],
   "source": [
    "print(f'Quantidade de linhas:{df_raw.shape[0]}')\n",
    "print(f'Quantidade de colunas:{df_raw.shape[1]}')"
   ]
  },
  {
   "cell_type": "code",
   "execution_count": 5,
   "id": "7ac995fa",
   "metadata": {
    "ExecuteTime": {
     "end_time": "2023-04-16T18:01:37.211732Z",
     "start_time": "2023-04-16T18:01:37.139175Z"
    }
   },
   "outputs": [
    {
     "data": {
      "text/plain": [
       "InvoiceNo           0\n",
       "StockCode           0\n",
       "Description      1454\n",
       "Quantity            0\n",
       "InvoiceDate         0\n",
       "UnitPrice           0\n",
       "CustomerID     135080\n",
       "Country             0\n",
       "dtype: int64"
      ]
     },
     "execution_count": 5,
     "metadata": {},
     "output_type": "execute_result"
    }
   ],
   "source": [
    "# descobrindo a quantidade de NAs\n",
    "df_raw.isna().sum()"
   ]
  },
  {
   "cell_type": "code",
   "execution_count": 6,
   "id": "9ea53a69",
   "metadata": {
    "ExecuteTime": {
     "end_time": "2023-04-16T18:01:37.301504Z",
     "start_time": "2023-04-16T18:01:37.213352Z"
    }
   },
   "outputs": [],
   "source": [
    "# nesse primeiro momento irei excluir os na\n",
    "df1 = df_raw.dropna()"
   ]
  },
  {
   "cell_type": "code",
   "execution_count": 7,
   "id": "f0678731",
   "metadata": {
    "ExecuteTime": {
     "end_time": "2023-04-16T18:01:37.357987Z",
     "start_time": "2023-04-16T18:01:37.302637Z"
    }
   },
   "outputs": [
    {
     "data": {
      "text/plain": [
       "InvoiceNo      0\n",
       "StockCode      0\n",
       "Description    0\n",
       "Quantity       0\n",
       "InvoiceDate    0\n",
       "UnitPrice      0\n",
       "CustomerID     0\n",
       "Country        0\n",
       "dtype: int64"
      ]
     },
     "execution_count": 7,
     "metadata": {},
     "output_type": "execute_result"
    }
   ],
   "source": [
    "df1.isna().sum()"
   ]
  },
  {
   "cell_type": "code",
   "execution_count": 8,
   "id": "df24a073",
   "metadata": {
    "ExecuteTime": {
     "end_time": "2023-04-16T18:01:37.361976Z",
     "start_time": "2023-04-16T18:01:37.359303Z"
    }
   },
   "outputs": [
    {
     "name": "stdout",
     "output_type": "stream",
     "text": [
      "Quantidade de registros depois de excluir os NAs: 406829\n"
     ]
    }
   ],
   "source": [
    "print(f'Quantidade de registros depois de excluir os NAs: {df1.shape[0]}')"
   ]
  },
  {
   "cell_type": "code",
   "execution_count": 9,
   "id": "02b5322c",
   "metadata": {
    "ExecuteTime": {
     "end_time": "2023-04-16T18:01:37.367991Z",
     "start_time": "2023-04-16T18:01:37.365449Z"
    }
   },
   "outputs": [
    {
     "name": "stdout",
     "output_type": "stream",
     "text": [
      "A porcentagem dos dados que são NA: 24.9%\n"
     ]
    }
   ],
   "source": [
    "# porcentagem dos dados que são na\n",
    "a = (df_raw.shape[0] - df1.shape[0]) / df_raw.shape[0]\n",
    "print(f'A porcentagem dos dados que são NA: {round(a*100,1)}%')"
   ]
  },
  {
   "cell_type": "code",
   "execution_count": 10,
   "id": "8e3e2713",
   "metadata": {
    "ExecuteTime": {
     "end_time": "2023-04-16T18:01:37.510001Z",
     "start_time": "2023-04-16T18:01:37.369202Z"
    }
   },
   "outputs": [
    {
     "name": "stdout",
     "output_type": "stream",
     "text": [
      "Total de linhas duplicadas: 5225\n"
     ]
    }
   ],
   "source": [
    "# duplicates\n",
    "print(f'Total de linhas duplicadas: {df1[df1.duplicated].shape[0]}')"
   ]
  },
  {
   "cell_type": "code",
   "execution_count": 11,
   "id": "38dd7f82",
   "metadata": {
    "ExecuteTime": {
     "end_time": "2023-04-16T18:01:37.666083Z",
     "start_time": "2023-04-16T18:01:37.511180Z"
    }
   },
   "outputs": [],
   "source": [
    "# excluindo as linhas duplicadas\n",
    "df1 = df1.drop_duplicates()"
   ]
  },
  {
   "cell_type": "code",
   "execution_count": 12,
   "id": "b571dd5d",
   "metadata": {
    "ExecuteTime": {
     "end_time": "2023-04-16T18:01:37.669747Z",
     "start_time": "2023-04-16T18:01:37.667193Z"
    }
   },
   "outputs": [
    {
     "name": "stdout",
     "output_type": "stream",
     "text": [
      "Tamanho do conjunto de dados sem NAs e sem duplicadas: 401604\n"
     ]
    }
   ],
   "source": [
    "print(f'Tamanho do conjunto de dados sem NAs e sem duplicadas: {df1.shape[0]}')"
   ]
  },
  {
   "cell_type": "code",
   "execution_count": 13,
   "id": "ba380021",
   "metadata": {
    "ExecuteTime": {
     "end_time": "2023-04-16T18:01:37.679619Z",
     "start_time": "2023-04-16T18:01:37.670811Z"
    }
   },
   "outputs": [
    {
     "data": {
      "text/plain": [
       "Index(['InvoiceNo', 'StockCode', 'Description', 'Quantity', 'InvoiceDate',\n",
       "       'UnitPrice', 'CustomerID', 'Country'],\n",
       "      dtype='object')"
      ]
     },
     "execution_count": 13,
     "metadata": {},
     "output_type": "execute_result"
    }
   ],
   "source": [
    "df1.columns"
   ]
  },
  {
   "cell_type": "code",
   "execution_count": 14,
   "id": "c1f7cf32",
   "metadata": {
    "ExecuteTime": {
     "end_time": "2023-04-16T18:01:37.686278Z",
     "start_time": "2023-04-16T18:01:37.680677Z"
    }
   },
   "outputs": [],
   "source": [
    "df1['CustomerID'] = df1['CustomerID'].astype(int)"
   ]
  },
  {
   "cell_type": "markdown",
   "id": "30360bde",
   "metadata": {},
   "source": [
    "## Criando features de Recencia | Frequencia | Monetaridade"
   ]
  },
  {
   "cell_type": "code",
   "execution_count": 15,
   "id": "59f02916",
   "metadata": {
    "ExecuteTime": {
     "end_time": "2023-04-16T18:01:37.694189Z",
     "start_time": "2023-04-16T18:01:37.687469Z"
    }
   },
   "outputs": [],
   "source": [
    "# montando um dataframe como:\n",
    "# customer_id | recency | frequency | monetary value\n",
    "\n",
    "# data referencia\n",
    "df_ref = df1.drop(['InvoiceNo', 'StockCode', 'Description', 'Quantity', 'InvoiceDate',\n",
    "       'UnitPrice', 'Country'], axis=1).drop_duplicates(ignore_index=True)"
   ]
  },
  {
   "cell_type": "code",
   "execution_count": 16,
   "id": "26bebf17",
   "metadata": {
    "ExecuteTime": {
     "end_time": "2023-04-16T18:01:37.712270Z",
     "start_time": "2023-04-16T18:01:37.695937Z"
    }
   },
   "outputs": [],
   "source": [
    "# monetary value = quantity * unitprice\n",
    "df1['Monetary'] = df1['Quantity'] * df1['UnitPrice']\n",
    "\n",
    "aux1 = df1[['CustomerID','Monetary']].groupby('CustomerID').sum().reset_index()\n",
    "\n",
    "# merge \n",
    "\n",
    "df_ref = pd.merge(df_ref, aux1, on='CustomerID', how='left')"
   ]
  },
  {
   "cell_type": "code",
   "execution_count": 17,
   "id": "b20c8256",
   "metadata": {
    "ExecuteTime": {
     "end_time": "2023-04-16T18:01:37.736813Z",
     "start_time": "2023-04-16T18:01:37.713362Z"
    }
   },
   "outputs": [],
   "source": [
    "# frequency\n",
    "aux2 = df1[['CustomerID', 'InvoiceNo']].groupby('CustomerID').count().reset_index()\n",
    "\n",
    "# merge\n",
    "df_ref = pd.merge(df_ref, aux2, on='CustomerID', how='left')\n",
    "\n",
    "df_ref = df_ref.rename(columns={'InvoiceNo': 'Frequency'})"
   ]
  },
  {
   "cell_type": "code",
   "execution_count": 18,
   "id": "00ee5968",
   "metadata": {
    "ExecuteTime": {
     "end_time": "2023-04-16T18:01:37.823592Z",
     "start_time": "2023-04-16T18:01:37.738149Z"
    }
   },
   "outputs": [],
   "source": [
    "# recency\n",
    "df1['InvoiceDate'] = pd.to_datetime(df1['InvoiceDate'], format='%m/%d/%Y %H:%M')\n",
    "\n",
    "aux3 = df1[['CustomerID', 'InvoiceDate']].groupby('CustomerID').max().reset_index()\n",
    "\n",
    "aux3['Recency'] = (df1['InvoiceDate'].max() - aux3['InvoiceDate']).dt.days\n",
    "\n",
    "aux3 = aux3[['CustomerID', 'Recency']].copy()\n",
    "\n",
    "# merge\n",
    "df_ref = pd.merge(df_ref, aux3, on='CustomerID', how='left')"
   ]
  },
  {
   "cell_type": "code",
   "execution_count": 19,
   "id": "a015cd3a",
   "metadata": {
    "ExecuteTime": {
     "end_time": "2023-04-16T18:01:37.830198Z",
     "start_time": "2023-04-16T18:01:37.824842Z"
    }
   },
   "outputs": [
    {
     "data": {
      "text/html": [
       "<div>\n",
       "<style scoped>\n",
       "    .dataframe tbody tr th:only-of-type {\n",
       "        vertical-align: middle;\n",
       "    }\n",
       "\n",
       "    .dataframe tbody tr th {\n",
       "        vertical-align: top;\n",
       "    }\n",
       "\n",
       "    .dataframe thead th {\n",
       "        text-align: right;\n",
       "    }\n",
       "</style>\n",
       "<table border=\"1\" class=\"dataframe\">\n",
       "  <thead>\n",
       "    <tr style=\"text-align: right;\">\n",
       "      <th></th>\n",
       "      <th>CustomerID</th>\n",
       "      <th>Monetary</th>\n",
       "      <th>Frequency</th>\n",
       "      <th>Recency</th>\n",
       "    </tr>\n",
       "  </thead>\n",
       "  <tbody>\n",
       "    <tr>\n",
       "      <th>0</th>\n",
       "      <td>17850</td>\n",
       "      <td>5303.48</td>\n",
       "      <td>309</td>\n",
       "      <td>301</td>\n",
       "    </tr>\n",
       "    <tr>\n",
       "      <th>1</th>\n",
       "      <td>13047</td>\n",
       "      <td>3079.10</td>\n",
       "      <td>196</td>\n",
       "      <td>31</td>\n",
       "    </tr>\n",
       "    <tr>\n",
       "      <th>2</th>\n",
       "      <td>12583</td>\n",
       "      <td>7187.34</td>\n",
       "      <td>251</td>\n",
       "      <td>2</td>\n",
       "    </tr>\n",
       "    <tr>\n",
       "      <th>3</th>\n",
       "      <td>13748</td>\n",
       "      <td>948.25</td>\n",
       "      <td>28</td>\n",
       "      <td>95</td>\n",
       "    </tr>\n",
       "    <tr>\n",
       "      <th>4</th>\n",
       "      <td>15100</td>\n",
       "      <td>635.10</td>\n",
       "      <td>6</td>\n",
       "      <td>329</td>\n",
       "    </tr>\n",
       "  </tbody>\n",
       "</table>\n",
       "</div>"
      ],
      "text/plain": [
       "   CustomerID  Monetary  Frequency  Recency\n",
       "0       17850   5303.48        309      301\n",
       "1       13047   3079.10        196       31\n",
       "2       12583   7187.34        251        2\n",
       "3       13748    948.25         28       95\n",
       "4       15100    635.10          6      329"
      ]
     },
     "execution_count": 19,
     "metadata": {},
     "output_type": "execute_result"
    }
   ],
   "source": [
    "df_ref.head()"
   ]
  },
  {
   "cell_type": "markdown",
   "id": "02c113bf",
   "metadata": {},
   "source": [
    "## Análise RFM"
   ]
  },
  {
   "cell_type": "code",
   "execution_count": 20,
   "id": "7752bd1f",
   "metadata": {
    "ExecuteTime": {
     "end_time": "2023-04-16T18:01:37.833669Z",
     "start_time": "2023-04-16T18:01:37.831371Z"
    }
   },
   "outputs": [],
   "source": [
    "df_rfm = df_ref.copy()"
   ]
  },
  {
   "cell_type": "code",
   "execution_count": 21,
   "id": "ed176b59",
   "metadata": {
    "ExecuteTime": {
     "end_time": "2023-04-16T18:01:37.839947Z",
     "start_time": "2023-04-16T18:01:37.834593Z"
    }
   },
   "outputs": [],
   "source": [
    "# Monetary\n",
    "# labels\n",
    "niveis_m = range(1,6)\n",
    "\n",
    "# quintis\n",
    "df_rfm['M'] = pd.qcut(df_rfm['Monetary'], q=5, labels=niveis_m)\n",
    "\n",
    "df_rfm['M'] = df_rfm['M'].astype(int)"
   ]
  },
  {
   "cell_type": "code",
   "execution_count": 22,
   "id": "f3485d4c",
   "metadata": {
    "ExecuteTime": {
     "end_time": "2023-04-16T18:01:37.846423Z",
     "start_time": "2023-04-16T18:01:37.841783Z"
    }
   },
   "outputs": [],
   "source": [
    "# Frequency\n",
    "# labels\n",
    "niveis_m = range(1,6)\n",
    "\n",
    "# quintis\n",
    "df_rfm['F'] = pd.qcut(df_rfm['Frequency'], q=5, labels=niveis_m)\n",
    "\n",
    "df_rfm['F'] = df_rfm['F'].astype(int)"
   ]
  },
  {
   "cell_type": "code",
   "execution_count": 23,
   "id": "d317086d",
   "metadata": {
    "ExecuteTime": {
     "end_time": "2023-04-16T18:01:37.852250Z",
     "start_time": "2023-04-16T18:01:37.847654Z"
    }
   },
   "outputs": [],
   "source": [
    "# Recency\n",
    "# labels\n",
    "niveis_m = range(5,0,-1)\n",
    "\n",
    "# quintis\n",
    "df_rfm['R'] = pd.qcut(df_rfm['Recency'], q=5, labels=niveis_m)\n",
    "\n",
    "df_rfm['R'] = df_rfm['R'].astype(int)"
   ]
  },
  {
   "cell_type": "code",
   "execution_count": 24,
   "id": "684724d4",
   "metadata": {
    "ExecuteTime": {
     "end_time": "2023-04-16T18:01:37.860383Z",
     "start_time": "2023-04-16T18:01:37.853396Z"
    }
   },
   "outputs": [
    {
     "data": {
      "text/html": [
       "<div>\n",
       "<style scoped>\n",
       "    .dataframe tbody tr th:only-of-type {\n",
       "        vertical-align: middle;\n",
       "    }\n",
       "\n",
       "    .dataframe tbody tr th {\n",
       "        vertical-align: top;\n",
       "    }\n",
       "\n",
       "    .dataframe thead th {\n",
       "        text-align: right;\n",
       "    }\n",
       "</style>\n",
       "<table border=\"1\" class=\"dataframe\">\n",
       "  <thead>\n",
       "    <tr style=\"text-align: right;\">\n",
       "      <th></th>\n",
       "      <th>CustomerID</th>\n",
       "      <th>Monetary</th>\n",
       "      <th>Frequency</th>\n",
       "      <th>Recency</th>\n",
       "      <th>M</th>\n",
       "      <th>F</th>\n",
       "      <th>R</th>\n",
       "    </tr>\n",
       "  </thead>\n",
       "  <tbody>\n",
       "    <tr>\n",
       "      <th>0</th>\n",
       "      <td>17850</td>\n",
       "      <td>5303.48</td>\n",
       "      <td>309</td>\n",
       "      <td>301</td>\n",
       "      <td>5</td>\n",
       "      <td>5</td>\n",
       "      <td>1</td>\n",
       "    </tr>\n",
       "    <tr>\n",
       "      <th>1</th>\n",
       "      <td>13047</td>\n",
       "      <td>3079.10</td>\n",
       "      <td>196</td>\n",
       "      <td>31</td>\n",
       "      <td>5</td>\n",
       "      <td>5</td>\n",
       "      <td>4</td>\n",
       "    </tr>\n",
       "    <tr>\n",
       "      <th>2</th>\n",
       "      <td>12583</td>\n",
       "      <td>7187.34</td>\n",
       "      <td>251</td>\n",
       "      <td>2</td>\n",
       "      <td>5</td>\n",
       "      <td>5</td>\n",
       "      <td>5</td>\n",
       "    </tr>\n",
       "    <tr>\n",
       "      <th>3</th>\n",
       "      <td>13748</td>\n",
       "      <td>948.25</td>\n",
       "      <td>28</td>\n",
       "      <td>95</td>\n",
       "      <td>4</td>\n",
       "      <td>2</td>\n",
       "      <td>2</td>\n",
       "    </tr>\n",
       "    <tr>\n",
       "      <th>4</th>\n",
       "      <td>15100</td>\n",
       "      <td>635.10</td>\n",
       "      <td>6</td>\n",
       "      <td>329</td>\n",
       "      <td>3</td>\n",
       "      <td>1</td>\n",
       "      <td>1</td>\n",
       "    </tr>\n",
       "    <tr>\n",
       "      <th>...</th>\n",
       "      <td>...</td>\n",
       "      <td>...</td>\n",
       "      <td>...</td>\n",
       "      <td>...</td>\n",
       "      <td>...</td>\n",
       "      <td>...</td>\n",
       "      <td>...</td>\n",
       "    </tr>\n",
       "    <tr>\n",
       "      <th>4367</th>\n",
       "      <td>13436</td>\n",
       "      <td>196.89</td>\n",
       "      <td>12</td>\n",
       "      <td>1</td>\n",
       "      <td>1</td>\n",
       "      <td>1</td>\n",
       "      <td>5</td>\n",
       "    </tr>\n",
       "    <tr>\n",
       "      <th>4368</th>\n",
       "      <td>15520</td>\n",
       "      <td>343.50</td>\n",
       "      <td>18</td>\n",
       "      <td>1</td>\n",
       "      <td>2</td>\n",
       "      <td>2</td>\n",
       "      <td>5</td>\n",
       "    </tr>\n",
       "    <tr>\n",
       "      <th>4369</th>\n",
       "      <td>13298</td>\n",
       "      <td>360.00</td>\n",
       "      <td>2</td>\n",
       "      <td>0</td>\n",
       "      <td>2</td>\n",
       "      <td>1</td>\n",
       "      <td>5</td>\n",
       "    </tr>\n",
       "    <tr>\n",
       "      <th>4370</th>\n",
       "      <td>14569</td>\n",
       "      <td>227.39</td>\n",
       "      <td>12</td>\n",
       "      <td>0</td>\n",
       "      <td>1</td>\n",
       "      <td>1</td>\n",
       "      <td>5</td>\n",
       "    </tr>\n",
       "    <tr>\n",
       "      <th>4371</th>\n",
       "      <td>12713</td>\n",
       "      <td>848.55</td>\n",
       "      <td>38</td>\n",
       "      <td>0</td>\n",
       "      <td>3</td>\n",
       "      <td>3</td>\n",
       "      <td>5</td>\n",
       "    </tr>\n",
       "  </tbody>\n",
       "</table>\n",
       "<p>4372 rows × 7 columns</p>\n",
       "</div>"
      ],
      "text/plain": [
       "      CustomerID  Monetary  Frequency  Recency  M  F  R\n",
       "0          17850   5303.48        309      301  5  5  1\n",
       "1          13047   3079.10        196       31  5  5  4\n",
       "2          12583   7187.34        251        2  5  5  5\n",
       "3          13748    948.25         28       95  4  2  2\n",
       "4          15100    635.10          6      329  3  1  1\n",
       "...          ...       ...        ...      ... .. .. ..\n",
       "4367       13436    196.89         12        1  1  1  5\n",
       "4368       15520    343.50         18        1  2  2  5\n",
       "4369       13298    360.00          2        0  2  1  5\n",
       "4370       14569    227.39         12        0  1  1  5\n",
       "4371       12713    848.55         38        0  3  3  5\n",
       "\n",
       "[4372 rows x 7 columns]"
      ]
     },
     "execution_count": 24,
     "metadata": {},
     "output_type": "execute_result"
    }
   ],
   "source": [
    "df_rfm"
   ]
  },
  {
   "cell_type": "markdown",
   "id": "4b8e3e43",
   "metadata": {},
   "source": [
    "### RFM - Score"
   ]
  },
  {
   "cell_type": "code",
   "execution_count": 25,
   "id": "ede312c4",
   "metadata": {
    "ExecuteTime": {
     "end_time": "2023-04-16T18:01:37.870453Z",
     "start_time": "2023-04-16T18:01:37.861491Z"
    }
   },
   "outputs": [
    {
     "data": {
      "text/html": [
       "<div>\n",
       "<style scoped>\n",
       "    .dataframe tbody tr th:only-of-type {\n",
       "        vertical-align: middle;\n",
       "    }\n",
       "\n",
       "    .dataframe tbody tr th {\n",
       "        vertical-align: top;\n",
       "    }\n",
       "\n",
       "    .dataframe thead th {\n",
       "        text-align: right;\n",
       "    }\n",
       "</style>\n",
       "<table border=\"1\" class=\"dataframe\">\n",
       "  <thead>\n",
       "    <tr style=\"text-align: right;\">\n",
       "      <th></th>\n",
       "      <th>CustomerID</th>\n",
       "      <th>Monetary</th>\n",
       "      <th>Frequency</th>\n",
       "      <th>Recency</th>\n",
       "      <th>M</th>\n",
       "      <th>F</th>\n",
       "      <th>R</th>\n",
       "      <th>RFMscore</th>\n",
       "    </tr>\n",
       "  </thead>\n",
       "  <tbody>\n",
       "    <tr>\n",
       "      <th>752</th>\n",
       "      <td>14298</td>\n",
       "      <td>50862.44</td>\n",
       "      <td>1640</td>\n",
       "      <td>2</td>\n",
       "      <td>5</td>\n",
       "      <td>5</td>\n",
       "      <td>5</td>\n",
       "      <td>5.0</td>\n",
       "    </tr>\n",
       "    <tr>\n",
       "      <th>1314</th>\n",
       "      <td>14701</td>\n",
       "      <td>2462.94</td>\n",
       "      <td>342</td>\n",
       "      <td>10</td>\n",
       "      <td>5</td>\n",
       "      <td>5</td>\n",
       "      <td>5</td>\n",
       "      <td>5.0</td>\n",
       "    </tr>\n",
       "    <tr>\n",
       "      <th>3134</th>\n",
       "      <td>12627</td>\n",
       "      <td>4478.53</td>\n",
       "      <td>230</td>\n",
       "      <td>10</td>\n",
       "      <td>5</td>\n",
       "      <td>5</td>\n",
       "      <td>5</td>\n",
       "      <td>5.0</td>\n",
       "    </tr>\n",
       "    <tr>\n",
       "      <th>2225</th>\n",
       "      <td>14546</td>\n",
       "      <td>2482.86</td>\n",
       "      <td>415</td>\n",
       "      <td>3</td>\n",
       "      <td>5</td>\n",
       "      <td>5</td>\n",
       "      <td>5</td>\n",
       "      <td>5.0</td>\n",
       "    </tr>\n",
       "    <tr>\n",
       "      <th>3119</th>\n",
       "      <td>14456</td>\n",
       "      <td>3002.51</td>\n",
       "      <td>954</td>\n",
       "      <td>4</td>\n",
       "      <td>5</td>\n",
       "      <td>5</td>\n",
       "      <td>5</td>\n",
       "      <td>5.0</td>\n",
       "    </tr>\n",
       "  </tbody>\n",
       "</table>\n",
       "</div>"
      ],
      "text/plain": [
       "      CustomerID  Monetary  Frequency  Recency  M  F  R  RFMscore\n",
       "752        14298  50862.44       1640        2  5  5  5       5.0\n",
       "1314       14701   2462.94        342       10  5  5  5       5.0\n",
       "3134       12627   4478.53        230       10  5  5  5       5.0\n",
       "2225       14546   2482.86        415        3  5  5  5       5.0\n",
       "3119       14456   3002.51        954        4  5  5  5       5.0"
      ]
     },
     "execution_count": 25,
     "metadata": {},
     "output_type": "execute_result"
    }
   ],
   "source": [
    "df_rfm['RFMscore'] = round( ( (df_rfm[ ['F','M', 'R'] ].sum(axis=1) ) / 3 ), 1 )\n",
    "df_rfm.sort_values(by='RFMscore', ascending=False).head()"
   ]
  },
  {
   "cell_type": "markdown",
   "id": "5dd35494",
   "metadata": {},
   "source": [
    "  É através do **RFM score** que podemos listar os melhor clientes da empresa em primeiro da lista. "
   ]
  },
  {
   "cell_type": "markdown",
   "id": "d2174899",
   "metadata": {},
   "source": [
    "## RFM - Segmentation"
   ]
  },
  {
   "cell_type": "markdown",
   "id": "0037d12f",
   "metadata": {
    "ExecuteTime": {
     "end_time": "2023-04-16T17:57:17.438702Z",
     "start_time": "2023-04-16T17:57:17.436039Z"
    }
   },
   "source": [
    "<img src=\"https://cdn3.notifyvisitors.com/blog/wp-content/uploads/2021/08/Customer-Segmentation-Using-RFM-Analysis.jpg\">"
   ]
  },
  {
   "cell_type": "markdown",
   "id": "89073567",
   "metadata": {},
   "source": [
    "Calculando a média dos valores de frequencia e monetaridade para posterior montar uma matriz como refência para desmentar os clientes."
   ]
  },
  {
   "cell_type": "code",
   "execution_count": 26,
   "id": "d3ea7444",
   "metadata": {
    "ExecuteTime": {
     "end_time": "2023-04-16T18:01:37.875210Z",
     "start_time": "2023-04-16T18:01:37.871443Z"
    }
   },
   "outputs": [],
   "source": [
    "#Média de F+M\n",
    "df_rfm['FM_mean'] = round( ( (df_rfm[ ['F','M'] ].sum(axis=1) ) / 2 ), 0 )"
   ]
  },
  {
   "cell_type": "code",
   "execution_count": 27,
   "id": "9be3a01c",
   "metadata": {
    "ExecuteTime": {
     "end_time": "2023-04-16T18:01:37.880553Z",
     "start_time": "2023-04-16T18:01:37.878003Z"
    }
   },
   "outputs": [],
   "source": [
    "df_rfm['FM_mean'] = df_rfm['FM_mean'].astype('int64')"
   ]
  },
  {
   "cell_type": "code",
   "execution_count": 28,
   "id": "e68f4272",
   "metadata": {
    "ExecuteTime": {
     "end_time": "2023-04-16T18:01:37.890966Z",
     "start_time": "2023-04-16T18:01:37.881632Z"
    }
   },
   "outputs": [
    {
     "data": {
      "text/html": [
       "<div>\n",
       "<style scoped>\n",
       "    .dataframe tbody tr th:only-of-type {\n",
       "        vertical-align: middle;\n",
       "    }\n",
       "\n",
       "    .dataframe tbody tr th {\n",
       "        vertical-align: top;\n",
       "    }\n",
       "\n",
       "    .dataframe thead th {\n",
       "        text-align: right;\n",
       "    }\n",
       "</style>\n",
       "<table border=\"1\" class=\"dataframe\">\n",
       "  <thead>\n",
       "    <tr style=\"text-align: right;\">\n",
       "      <th></th>\n",
       "      <th>CustomerID</th>\n",
       "      <th>Monetary</th>\n",
       "      <th>Frequency</th>\n",
       "      <th>Recency</th>\n",
       "      <th>M</th>\n",
       "      <th>F</th>\n",
       "      <th>R</th>\n",
       "      <th>RFMscore</th>\n",
       "      <th>FM_mean</th>\n",
       "    </tr>\n",
       "  </thead>\n",
       "  <tbody>\n",
       "    <tr>\n",
       "      <th>0</th>\n",
       "      <td>17850</td>\n",
       "      <td>5303.48</td>\n",
       "      <td>309</td>\n",
       "      <td>301</td>\n",
       "      <td>5</td>\n",
       "      <td>5</td>\n",
       "      <td>1</td>\n",
       "      <td>3.7</td>\n",
       "      <td>5</td>\n",
       "    </tr>\n",
       "    <tr>\n",
       "      <th>745</th>\n",
       "      <td>14057</td>\n",
       "      <td>6141.10</td>\n",
       "      <td>290</td>\n",
       "      <td>23</td>\n",
       "      <td>5</td>\n",
       "      <td>5</td>\n",
       "      <td>4</td>\n",
       "      <td>4.7</td>\n",
       "      <td>5</td>\n",
       "    </tr>\n",
       "    <tr>\n",
       "      <th>748</th>\n",
       "      <td>18044</td>\n",
       "      <td>2085.65</td>\n",
       "      <td>128</td>\n",
       "      <td>3</td>\n",
       "      <td>5</td>\n",
       "      <td>5</td>\n",
       "      <td>5</td>\n",
       "      <td>5.0</td>\n",
       "      <td>5</td>\n",
       "    </tr>\n",
       "    <tr>\n",
       "      <th>750</th>\n",
       "      <td>16191</td>\n",
       "      <td>4913.32</td>\n",
       "      <td>151</td>\n",
       "      <td>2</td>\n",
       "      <td>5</td>\n",
       "      <td>5</td>\n",
       "      <td>5</td>\n",
       "      <td>5.0</td>\n",
       "      <td>5</td>\n",
       "    </tr>\n",
       "    <tr>\n",
       "      <th>751</th>\n",
       "      <td>12370</td>\n",
       "      <td>3541.94</td>\n",
       "      <td>166</td>\n",
       "      <td>50</td>\n",
       "      <td>5</td>\n",
       "      <td>5</td>\n",
       "      <td>3</td>\n",
       "      <td>4.3</td>\n",
       "      <td>5</td>\n",
       "    </tr>\n",
       "  </tbody>\n",
       "</table>\n",
       "</div>"
      ],
      "text/plain": [
       "     CustomerID  Monetary  Frequency  Recency  M  F  R  RFMscore  FM_mean\n",
       "0         17850   5303.48        309      301  5  5  1       3.7        5\n",
       "745       14057   6141.10        290       23  5  5  4       4.7        5\n",
       "748       18044   2085.65        128        3  5  5  5       5.0        5\n",
       "750       16191   4913.32        151        2  5  5  5       5.0        5\n",
       "751       12370   3541.94        166       50  5  5  3       4.3        5"
      ]
     },
     "execution_count": 28,
     "metadata": {},
     "output_type": "execute_result"
    }
   ],
   "source": [
    "df_rfm.sort_values(by='FM_mean', ascending=False).head()"
   ]
  },
  {
   "cell_type": "code",
   "execution_count": 29,
   "id": "0e53a7f7",
   "metadata": {
    "ExecuteTime": {
     "end_time": "2023-04-16T18:01:37.900403Z",
     "start_time": "2023-04-16T18:01:37.892133Z"
    }
   },
   "outputs": [],
   "source": [
    "rfm_pivot = df_rfm.pivot_table(values='CustomerID', index='FM_mean', columns='R', aggfunc='count')\n",
    "\n",
    "rfm_pivot = rfm_pivot.loc[[5,4,3,2,1],[1,2,3,4,5]]"
   ]
  },
  {
   "cell_type": "code",
   "execution_count": 30,
   "id": "4f3ab6f2",
   "metadata": {
    "ExecuteTime": {
     "end_time": "2023-04-16T18:01:37.906330Z",
     "start_time": "2023-04-16T18:01:37.901462Z"
    }
   },
   "outputs": [
    {
     "data": {
      "text/html": [
       "<div>\n",
       "<style scoped>\n",
       "    .dataframe tbody tr th:only-of-type {\n",
       "        vertical-align: middle;\n",
       "    }\n",
       "\n",
       "    .dataframe tbody tr th {\n",
       "        vertical-align: top;\n",
       "    }\n",
       "\n",
       "    .dataframe thead th {\n",
       "        text-align: right;\n",
       "    }\n",
       "</style>\n",
       "<table border=\"1\" class=\"dataframe\">\n",
       "  <thead>\n",
       "    <tr style=\"text-align: right;\">\n",
       "      <th>R</th>\n",
       "      <th>1</th>\n",
       "      <th>2</th>\n",
       "      <th>3</th>\n",
       "      <th>4</th>\n",
       "      <th>5</th>\n",
       "    </tr>\n",
       "    <tr>\n",
       "      <th>FM_mean</th>\n",
       "      <th></th>\n",
       "      <th></th>\n",
       "      <th></th>\n",
       "      <th></th>\n",
       "      <th></th>\n",
       "    </tr>\n",
       "  </thead>\n",
       "  <tbody>\n",
       "    <tr>\n",
       "      <th>5</th>\n",
       "      <td>8</td>\n",
       "      <td>33</td>\n",
       "      <td>88</td>\n",
       "      <td>169</td>\n",
       "      <td>319</td>\n",
       "    </tr>\n",
       "    <tr>\n",
       "      <th>4</th>\n",
       "      <td>77</td>\n",
       "      <td>233</td>\n",
       "      <td>273</td>\n",
       "      <td>349</td>\n",
       "      <td>325</td>\n",
       "    </tr>\n",
       "    <tr>\n",
       "      <th>3</th>\n",
       "      <td>74</td>\n",
       "      <td>156</td>\n",
       "      <td>129</td>\n",
       "      <td>122</td>\n",
       "      <td>82</td>\n",
       "    </tr>\n",
       "    <tr>\n",
       "      <th>2</th>\n",
       "      <td>432</td>\n",
       "      <td>317</td>\n",
       "      <td>275</td>\n",
       "      <td>198</td>\n",
       "      <td>114</td>\n",
       "    </tr>\n",
       "    <tr>\n",
       "      <th>1</th>\n",
       "      <td>284</td>\n",
       "      <td>121</td>\n",
       "      <td>92</td>\n",
       "      <td>66</td>\n",
       "      <td>36</td>\n",
       "    </tr>\n",
       "  </tbody>\n",
       "</table>\n",
       "</div>"
      ],
      "text/plain": [
       "R          1    2    3    4    5\n",
       "FM_mean                         \n",
       "5          8   33   88  169  319\n",
       "4         77  233  273  349  325\n",
       "3         74  156  129  122   82\n",
       "2        432  317  275  198  114\n",
       "1        284  121   92   66   36"
      ]
     },
     "execution_count": 30,
     "metadata": {},
     "output_type": "execute_result"
    }
   ],
   "source": [
    "rfm_pivot"
   ]
  },
  {
   "cell_type": "code",
   "execution_count": 31,
   "id": "217678eb",
   "metadata": {
    "ExecuteTime": {
     "end_time": "2023-04-16T18:01:38.073232Z",
     "start_time": "2023-04-16T18:01:37.907859Z"
    }
   },
   "outputs": [
    {
     "data": {
      "image/png": "[encoded data removed]",
      "text/plain": [
       "<Figure size 1200x600 with 2 Axes>"
      ]
     },
     "metadata": {},
     "output_type": "display_data"
    }
   ],
   "source": [
    "#Visualizando em um mapa de calor\n",
    "\n",
    "plt.figure(figsize=(12,6))\n",
    "\n",
    "# heatmap\n",
    "plot = sns.heatmap(rfm_pivot, annot=True, fmt='d', linewidths=10, \n",
    "            cmap='crest', annot_kws={\"fontsize\":10})\n",
    "\n",
    "plot.set_xlabel('Recência', fontsize=12)\n",
    "plot.set_ylabel('Média de Frequência e Valor Monetário', fontsize=12)\n",
    "\n",
    "plt.show();"
   ]
  },
  {
   "cell_type": "markdown",
   "id": "3c5ca10b",
   "metadata": {},
   "source": [
    "Através do heatmap é possível visualizar a distribuição dos clientes de acordo com a Recência e a média de frequencia e monetaridade."
   ]
  },
  {
   "cell_type": "markdown",
   "id": "440a3a05",
   "metadata": {},
   "source": [
    "#### Classificando os clientes"
   ]
  },
  {
   "cell_type": "markdown",
   "id": "ebc2b031",
   "metadata": {},
   "source": [
    "<img src=\"https://pocket-image-cache.com//filters:format(jpg):extract_focal()/https%3A%2F%2Fmiro.medium.com%2Fmax%2F1600%2F1*bGkBVQ_V5_JadgNiyAgiiw.png\">"
   ]
  },
  {
   "cell_type": "code",
   "execution_count": 32,
   "id": "e11ad0b1",
   "metadata": {
    "ExecuteTime": {
     "end_time": "2023-04-16T18:01:38.081695Z",
     "start_time": "2023-04-16T18:01:38.074674Z"
    }
   },
   "outputs": [],
   "source": [
    "def classificar(df):\n",
    "    if (4 <= df['FM_mean'] <= 5) and (4 <= df['R'] <= 5):\n",
    "        return 'Champions'\n",
    "    elif (3 <= df['FM_mean'] <= 5) and (2 <= df['R'] <= 5):\n",
    "        return 'Loyal Customers'\n",
    "    elif (1 <= df['FM_mean'] <= 3) and (3 <= df['R'] <= 5):\n",
    "        return 'Potential Loyalist'\n",
    "    elif (0 <= df['FM_mean'] <= 1) and (3 <= df['R'] <= 4):\n",
    "        return 'New Customers'    \n",
    "    elif (0 <= df['FM_mean'] <= 1) and (3 <= df['R'] <= 4):\n",
    "        return 'Promising'    \n",
    "    elif (2 <= df['FM_mean'] <= 3) and (2 <= df['R'] <= 3):\n",
    "        return 'Customers Needing Attention' \n",
    "    elif (0 <= df['FM_mean'] <= 2) and (2 <= df['R'] <= 3):\n",
    "        return 'About to Sleep'     \n",
    "    elif (2 <= df['FM_mean'] <= 5) and (0 <= df['R'] <= 2):\n",
    "        return 'At Risk'     \n",
    "    elif (4 <= df['FM_mean'] <= 5) and (0 <= df['R'] <= 1):\n",
    "        return 'Can´t Lose Them'\n",
    "    elif (1 <= df['FM_mean'] <= 2) and (1 <= df['R'] <= 2):\n",
    "        return 'Hibernating'\n",
    "    elif (0 <= df['FM_mean'] <= 2) and (0 <= df['R'] <= 2):\n",
    "        return 'Lost'       \n"
   ]
  },
  {
   "cell_type": "markdown",
   "id": "f7cb34c0",
   "metadata": {},
   "source": [
    "<img src=\"https://pocket-image-cache.com//filters:format(jpg):extract_focal()/https%3A%2F%2Fmiro.medium.com%2Fmax%2F1600%2F1*JXuxk7w8CCd5aKref26EmA.png\">"
   ]
  },
  {
   "cell_type": "code",
   "execution_count": 33,
   "id": "747c2970",
   "metadata": {
    "ExecuteTime": {
     "end_time": "2023-04-16T18:01:38.139671Z",
     "start_time": "2023-04-16T18:01:38.083029Z"
    }
   },
   "outputs": [
    {
     "data": {
      "text/html": [
       "<div>\n",
       "<style scoped>\n",
       "    .dataframe tbody tr th:only-of-type {\n",
       "        vertical-align: middle;\n",
       "    }\n",
       "\n",
       "    .dataframe tbody tr th {\n",
       "        vertical-align: top;\n",
       "    }\n",
       "\n",
       "    .dataframe thead th {\n",
       "        text-align: right;\n",
       "    }\n",
       "</style>\n",
       "<table border=\"1\" class=\"dataframe\">\n",
       "  <thead>\n",
       "    <tr style=\"text-align: right;\">\n",
       "      <th></th>\n",
       "      <th>CustomerID</th>\n",
       "      <th>Monetary</th>\n",
       "      <th>Frequency</th>\n",
       "      <th>Recency</th>\n",
       "      <th>M</th>\n",
       "      <th>F</th>\n",
       "      <th>R</th>\n",
       "      <th>RFMscore</th>\n",
       "      <th>FM_mean</th>\n",
       "      <th>Classe</th>\n",
       "    </tr>\n",
       "  </thead>\n",
       "  <tbody>\n",
       "    <tr>\n",
       "      <th>0</th>\n",
       "      <td>17850</td>\n",
       "      <td>5303.48</td>\n",
       "      <td>309</td>\n",
       "      <td>301</td>\n",
       "      <td>5</td>\n",
       "      <td>5</td>\n",
       "      <td>1</td>\n",
       "      <td>3.7</td>\n",
       "      <td>5</td>\n",
       "      <td>At Risk</td>\n",
       "    </tr>\n",
       "    <tr>\n",
       "      <th>1</th>\n",
       "      <td>13047</td>\n",
       "      <td>3079.10</td>\n",
       "      <td>196</td>\n",
       "      <td>31</td>\n",
       "      <td>5</td>\n",
       "      <td>5</td>\n",
       "      <td>4</td>\n",
       "      <td>4.7</td>\n",
       "      <td>5</td>\n",
       "      <td>Champions</td>\n",
       "    </tr>\n",
       "    <tr>\n",
       "      <th>2</th>\n",
       "      <td>12583</td>\n",
       "      <td>7187.34</td>\n",
       "      <td>251</td>\n",
       "      <td>2</td>\n",
       "      <td>5</td>\n",
       "      <td>5</td>\n",
       "      <td>5</td>\n",
       "      <td>5.0</td>\n",
       "      <td>5</td>\n",
       "      <td>Champions</td>\n",
       "    </tr>\n",
       "    <tr>\n",
       "      <th>3</th>\n",
       "      <td>13748</td>\n",
       "      <td>948.25</td>\n",
       "      <td>28</td>\n",
       "      <td>95</td>\n",
       "      <td>4</td>\n",
       "      <td>2</td>\n",
       "      <td>2</td>\n",
       "      <td>2.7</td>\n",
       "      <td>3</td>\n",
       "      <td>Loyal Customers</td>\n",
       "    </tr>\n",
       "    <tr>\n",
       "      <th>4</th>\n",
       "      <td>15100</td>\n",
       "      <td>635.10</td>\n",
       "      <td>6</td>\n",
       "      <td>329</td>\n",
       "      <td>3</td>\n",
       "      <td>1</td>\n",
       "      <td>1</td>\n",
       "      <td>1.7</td>\n",
       "      <td>2</td>\n",
       "      <td>At Risk</td>\n",
       "    </tr>\n",
       "    <tr>\n",
       "      <th>...</th>\n",
       "      <td>...</td>\n",
       "      <td>...</td>\n",
       "      <td>...</td>\n",
       "      <td>...</td>\n",
       "      <td>...</td>\n",
       "      <td>...</td>\n",
       "      <td>...</td>\n",
       "      <td>...</td>\n",
       "      <td>...</td>\n",
       "      <td>...</td>\n",
       "    </tr>\n",
       "    <tr>\n",
       "      <th>4367</th>\n",
       "      <td>13436</td>\n",
       "      <td>196.89</td>\n",
       "      <td>12</td>\n",
       "      <td>1</td>\n",
       "      <td>1</td>\n",
       "      <td>1</td>\n",
       "      <td>5</td>\n",
       "      <td>2.3</td>\n",
       "      <td>1</td>\n",
       "      <td>Potential Loyalist</td>\n",
       "    </tr>\n",
       "    <tr>\n",
       "      <th>4368</th>\n",
       "      <td>15520</td>\n",
       "      <td>343.50</td>\n",
       "      <td>18</td>\n",
       "      <td>1</td>\n",
       "      <td>2</td>\n",
       "      <td>2</td>\n",
       "      <td>5</td>\n",
       "      <td>3.0</td>\n",
       "      <td>2</td>\n",
       "      <td>Potential Loyalist</td>\n",
       "    </tr>\n",
       "    <tr>\n",
       "      <th>4369</th>\n",
       "      <td>13298</td>\n",
       "      <td>360.00</td>\n",
       "      <td>2</td>\n",
       "      <td>0</td>\n",
       "      <td>2</td>\n",
       "      <td>1</td>\n",
       "      <td>5</td>\n",
       "      <td>2.7</td>\n",
       "      <td>2</td>\n",
       "      <td>Potential Loyalist</td>\n",
       "    </tr>\n",
       "    <tr>\n",
       "      <th>4370</th>\n",
       "      <td>14569</td>\n",
       "      <td>227.39</td>\n",
       "      <td>12</td>\n",
       "      <td>0</td>\n",
       "      <td>1</td>\n",
       "      <td>1</td>\n",
       "      <td>5</td>\n",
       "      <td>2.3</td>\n",
       "      <td>1</td>\n",
       "      <td>Potential Loyalist</td>\n",
       "    </tr>\n",
       "    <tr>\n",
       "      <th>4371</th>\n",
       "      <td>12713</td>\n",
       "      <td>848.55</td>\n",
       "      <td>38</td>\n",
       "      <td>0</td>\n",
       "      <td>3</td>\n",
       "      <td>3</td>\n",
       "      <td>5</td>\n",
       "      <td>3.7</td>\n",
       "      <td>3</td>\n",
       "      <td>Loyal Customers</td>\n",
       "    </tr>\n",
       "  </tbody>\n",
       "</table>\n",
       "<p>4372 rows × 10 columns</p>\n",
       "</div>"
      ],
      "text/plain": [
       "      CustomerID  Monetary  Frequency  Recency  M  F  R  RFMscore  FM_mean   \n",
       "0          17850   5303.48        309      301  5  5  1       3.7        5  \\\n",
       "1          13047   3079.10        196       31  5  5  4       4.7        5   \n",
       "2          12583   7187.34        251        2  5  5  5       5.0        5   \n",
       "3          13748    948.25         28       95  4  2  2       2.7        3   \n",
       "4          15100    635.10          6      329  3  1  1       1.7        2   \n",
       "...          ...       ...        ...      ... .. .. ..       ...      ...   \n",
       "4367       13436    196.89         12        1  1  1  5       2.3        1   \n",
       "4368       15520    343.50         18        1  2  2  5       3.0        2   \n",
       "4369       13298    360.00          2        0  2  1  5       2.7        2   \n",
       "4370       14569    227.39         12        0  1  1  5       2.3        1   \n",
       "4371       12713    848.55         38        0  3  3  5       3.7        3   \n",
       "\n",
       "                  Classe  \n",
       "0                At Risk  \n",
       "1              Champions  \n",
       "2              Champions  \n",
       "3        Loyal Customers  \n",
       "4                At Risk  \n",
       "...                  ...  \n",
       "4367  Potential Loyalist  \n",
       "4368  Potential Loyalist  \n",
       "4369  Potential Loyalist  \n",
       "4370  Potential Loyalist  \n",
       "4371     Loyal Customers  \n",
       "\n",
       "[4372 rows x 10 columns]"
      ]
     },
     "execution_count": 33,
     "metadata": {},
     "output_type": "execute_result"
    }
   ],
   "source": [
    "df_rfm['Classe'] = df_rfm.apply(classificar,axis=1)\n",
    "df_rfm"
   ]
  },
  {
   "cell_type": "code",
   "execution_count": 34,
   "id": "44efd601",
   "metadata": {
    "ExecuteTime": {
     "end_time": "2023-04-16T18:01:38.257204Z",
     "start_time": "2023-04-16T18:01:38.140639Z"
    }
   },
   "outputs": [
    {
     "data": {
      "image/png": "[encoded data removed]",
      "text/plain": [
       "<Figure size 1200x600 with 1 Axes>"
      ]
     },
     "metadata": {},
     "output_type": "display_data"
    }
   ],
   "source": [
    "df_plot = df_rfm[['CustomerID', 'Classe']].groupby('Classe').count().reset_index().sort_values(by='CustomerID',\n",
    "                                                                                              ascending=False)\n",
    "\n",
    "plt.figure(figsize=(12,6))\n",
    "\n",
    "\n",
    "plot = sns.barplot(x='Classe', y='CustomerID', data=df_plot, palette='crest')\n",
    "plot.bar_label(plot.containers[0])\n",
    "\n",
    "plot.set_ylabel('Quantidade de Clientes', fontsize=12)\n",
    "plt.xticks(rotation=20)\n",
    "plt.show();"
   ]
  },
  {
   "cell_type": "code",
   "execution_count": 35,
   "id": "1f8113e6",
   "metadata": {
    "ExecuteTime": {
     "end_time": "2023-04-16T18:01:38.264225Z",
     "start_time": "2023-04-16T18:01:38.258845Z"
    }
   },
   "outputs": [
    {
     "data": {
      "text/html": [
       "<div>\n",
       "<style scoped>\n",
       "    .dataframe tbody tr th:only-of-type {\n",
       "        vertical-align: middle;\n",
       "    }\n",
       "\n",
       "    .dataframe tbody tr th {\n",
       "        vertical-align: top;\n",
       "    }\n",
       "\n",
       "    .dataframe thead th {\n",
       "        text-align: right;\n",
       "    }\n",
       "</style>\n",
       "<table border=\"1\" class=\"dataframe\">\n",
       "  <thead>\n",
       "    <tr style=\"text-align: right;\">\n",
       "      <th></th>\n",
       "      <th>CustomerID</th>\n",
       "      <th>Monetary</th>\n",
       "      <th>Frequency</th>\n",
       "      <th>Recency</th>\n",
       "      <th>M</th>\n",
       "      <th>F</th>\n",
       "      <th>R</th>\n",
       "      <th>RFMscore</th>\n",
       "      <th>FM_mean</th>\n",
       "      <th>Classe</th>\n",
       "    </tr>\n",
       "  </thead>\n",
       "  <tbody>\n",
       "  </tbody>\n",
       "</table>\n",
       "</div>"
      ],
      "text/plain": [
       "Empty DataFrame\n",
       "Columns: [CustomerID, Monetary, Frequency, Recency, M, F, R, RFMscore, FM_mean, Classe]\n",
       "Index: []"
      ]
     },
     "execution_count": 35,
     "metadata": {},
     "output_type": "execute_result"
    }
   ],
   "source": [
    "df_rfm.loc[df_rfm['R'] == 'Lost',:]"
   ]
  },
  {
   "cell_type": "markdown",
   "id": "3ab5dcc7",
   "metadata": {},
   "source": [
    "Através dessa classificação dos meus clintes é possivel responder as seguintes perguntas:\n",
    "\n",
    "    -> Quam são os melhores clientes?\n",
    "    -> Quais clientes são próximos de churn?\n",
    "    -> Quais os potenciais clientes para entrar no programa de Fidelização?\n",
    "    -> Quais clientes são mais provaveis de responder as campanhas de marketing?"
   ]
  },
  {
   "cell_type": "code",
   "execution_count": null,
   "id": "7570a316",
   "metadata": {},
   "outputs": [],
   "source": []
  }
 ],
 "metadata": {
  "kernelspec": {
   "display_name": "Python 3 (ipykernel)",
   "language": "python",
   "name": "python3"
  },
  "language_info": {
   "codemirror_mode": {
    "name": "ipython",
    "version": 3
   },
   "file_extension": ".py",
   "mimetype": "text/x-python",
   "name": "python",
   "nbconvert_exporter": "python",
   "pygments_lexer": "ipython3",
   "version": "3.11.1"
  }
 },
 "nbformat": 4,
 "nbformat_minor": 5
}
